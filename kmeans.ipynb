{
 "cells": [
  {
   "cell_type": "markdown",
   "metadata": {
    "papermill": {
     "duration": 0.009283,
     "end_time": "2020-08-30T16:00:19.366750",
     "exception": false,
     "start_time": "2020-08-30T16:00:19.357467",
     "status": "completed"
    },
    "tags": []
   },
   "source": [
    "The data set consists of 50 samples from each of three species of Iris (Iris setosa, Iris virginica and Iris versicolor). Four features were measured from each sample: the length and the width of the sepals and petals, in centimeters. "
   ]
  },
  {
   "attachments": {},
   "cell_type": "markdown",
   "metadata": {
    "papermill": {
     "duration": 0.007463,
     "end_time": "2020-08-30T16:00:19.382402",
     "exception": false,
     "start_time": "2020-08-30T16:00:19.374939",
     "status": "completed"
    },
    "tags": []
   },
   "source": [
    "![https://miro.medium.com/max/2550/0*GVjzZeYrir0R_6-X.png](https://miro.medium.com/max/2550/0*GVjzZeYrir0R_6-X.png)\n",
    "\n"
   ]
  },
  {
   "cell_type": "code",
   "execution_count": 1,
   "metadata": {
    "_cell_guid": "b1076dfc-b9ad-4769-8c92-a6c4dae69d19",
    "_uuid": "8f2839f25d086af736a60e9eeb907d3b93b6e0e5",
    "execution": {
     "iopub.execute_input": "2020-08-30T16:00:19.437596Z",
     "iopub.status.busy": "2020-08-30T16:00:19.436851Z",
     "iopub.status.idle": "2020-08-30T16:00:20.704106Z",
     "shell.execute_reply": "2020-08-30T16:00:20.703288Z"
    },
    "papermill": {
     "duration": 1.28205,
     "end_time": "2020-08-30T16:00:20.704247",
     "exception": false,
     "start_time": "2020-08-30T16:00:19.422197",
     "status": "completed"
    },
    "tags": []
   },
   "outputs": [],
   "source": [
    "import pandas as pd\n",
    "import numpy as np\n",
    "from sklearn.cluster import KMeans \n",
    "from sklearn.metrics import silhouette_score\n",
    "from sklearn.preprocessing import MinMaxScaler\n",
    "import plotly.express as px"
   ]
  },
  {
   "cell_type": "markdown",
   "metadata": {
    "papermill": {
     "duration": 0.007997,
     "end_time": "2020-08-30T16:00:20.720418",
     "exception": false,
     "start_time": "2020-08-30T16:00:20.712421",
     "status": "completed"
    },
    "tags": []
   },
   "source": [
    "reading dataset"
   ]
  },
  {
   "cell_type": "code",
   "execution_count": 7,
   "metadata": {
    "_cell_guid": "79c7e3d0-c299-4dcb-8224-4455121ee9b0",
    "_uuid": "d629ff2d2480ee46fbb7e2d37f6b5fab8052498a",
    "execution": {
     "iopub.execute_input": "2020-08-30T16:00:20.750499Z",
     "iopub.status.busy": "2020-08-30T16:00:20.749617Z",
     "iopub.status.idle": "2020-08-30T16:00:20.764098Z",
     "shell.execute_reply": "2020-08-30T16:00:20.764728Z"
    },
    "papermill": {
     "duration": 0.036656,
     "end_time": "2020-08-30T16:00:20.764910",
     "exception": false,
     "start_time": "2020-08-30T16:00:20.728254",
     "status": "completed"
    },
    "tags": []
   },
   "outputs": [],
   "source": [
    "df = pd.read_csv(\"https://spataru.at/campus02/iris.csv\")\n",
    "x = df.iloc[:, [0, 1, 2, 3]]\n"
   ]
  },
  {
   "cell_type": "code",
   "execution_count": 9,
   "metadata": {},
   "outputs": [],
   "source": [
    "# plotly plot of each value\n"
   ]
  },
  {
   "cell_type": "markdown",
   "metadata": {
    "papermill": {
     "duration": 0.011981,
     "end_time": "2020-08-30T16:00:30.335004",
     "exception": false,
     "start_time": "2020-08-30T16:00:30.323023",
     "status": "completed"
    },
    "tags": []
   },
   "source": [
    "# K-Means"
   ]
  },
  {
   "cell_type": "code",
   "execution_count": null,
   "metadata": {},
   "outputs": [],
   "source": []
  }
 ],
 "metadata": {
  "kernelspec": {
   "display_name": "Python 3",
   "language": "python",
   "name": "python3"
  },
  "language_info": {
   "codemirror_mode": {
    "name": "ipython",
    "version": 3
   },
   "file_extension": ".py",
   "mimetype": "text/x-python",
   "name": "python",
   "nbconvert_exporter": "python",
   "pygments_lexer": "ipython3",
   "version": "3.11.8"
  },
  "papermill": {
   "duration": 17.31099,
   "end_time": "2020-08-30T16:00:32.174557",
   "environment_variables": {},
   "exception": null,
   "input_path": "__notebook__.ipynb",
   "output_path": "__notebook__.ipynb",
   "parameters": {},
   "start_time": "2020-08-30T16:00:14.863567",
   "version": "2.1.0"
  }
 },
 "nbformat": 4,
 "nbformat_minor": 4
}
