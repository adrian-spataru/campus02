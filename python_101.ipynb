{
  "cells": [
    {
      "cell_type": "markdown",
      "source": [
        "# Campus02 - Python Essentials\n",
        "\n"
      ],
      "metadata": {
        "id": "CGYYeLcPhaxg"
      },
      "id": "CGYYeLcPhaxg"
    },
    {
      "cell_type": "code",
      "source": [
        "# Demonstrate list, dict, filtering, for loops, if statements, type conversion."
      ],
      "metadata": {
        "id": "KPMk0jAVhfr9"
      },
      "id": "KPMk0jAVhfr9",
      "execution_count": null,
      "outputs": []
    },
    {
      "cell_type": "code",
      "source": [],
      "metadata": {
        "id": "qLfuYzeQhf1q"
      },
      "id": "qLfuYzeQhf1q",
      "execution_count": null,
      "outputs": []
    },
    {
      "cell_type": "code",
      "source": [],
      "metadata": {
        "id": "gqoaAUsnhf4v"
      },
      "id": "gqoaAUsnhf4v",
      "execution_count": null,
      "outputs": []
    },
    {
      "cell_type": "code",
      "source": [],
      "metadata": {
        "id": "acE-g2chhf76"
      },
      "id": "acE-g2chhf76",
      "execution_count": null,
      "outputs": []
    },
    {
      "cell_type": "code",
      "source": [],
      "metadata": {
        "id": "m1W0De0Khf-k"
      },
      "id": "m1W0De0Khf-k",
      "execution_count": null,
      "outputs": []
    },
    {
      "cell_type": "code",
      "source": [],
      "metadata": {
        "id": "bFqH3c_n8xds"
      },
      "id": "bFqH3c_n8xds",
      "execution_count": null,
      "outputs": []
    },
    {
      "cell_type": "markdown",
      "source": [
        "# Level 0 - Data Structures & Algorithms 101"
      ],
      "metadata": {
        "id": "DrpUqjKO9xSp"
      },
      "id": "DrpUqjKO9xSp"
    },
    {
      "cell_type": "markdown",
      "id": "1dbce4b9",
      "metadata": {
        "id": "1dbce4b9"
      },
      "source": [
        "## Exercise 1: Cleaning String Data\n",
        "In this exercise, you will create a function `clean_string` that takes a string and returns a clean string with the following transformations:\n",
        "- Strip leading and trailing whitespaces.\n",
        "- Replace multiple spaces with a single space.\n",
        "- Convert to lowercase.\n"
      ]
    },
    {
      "cell_type": "code",
      "execution_count": null,
      "id": "f68b9352",
      "metadata": {
        "id": "f68b9352"
      },
      "outputs": [],
      "source": [
        "def clean_string(text):\n",
        "    # Your code here\n",
        "    pass\n"
      ]
    },
    {
      "cell_type": "code",
      "execution_count": null,
      "id": "645916e4",
      "metadata": {
        "id": "645916e4"
      },
      "outputs": [],
      "source": [
        "assert clean_string('  Hello   World!  ') == 'hello world!', 'Test case failed!'\n",
        "print('Test case passed!')\n"
      ]
    },
    {
      "cell_type": "markdown",
      "id": "9a51b329",
      "metadata": {
        "id": "9a51b329"
      },
      "source": [
        "## Exercise 2: Removing Items from a List\n",
        "Write a function `remove_values` that takes a list and a value to be removed from that list. It should return a new list with the value removed.\n"
      ]
    },
    {
      "cell_type": "code",
      "execution_count": null,
      "id": "259a2add",
      "metadata": {
        "id": "259a2add"
      },
      "outputs": [],
      "source": [
        "def remove_values(data_list, value_to_remove):\n",
        "    # Your code here\n",
        "    pass\n"
      ]
    },
    {
      "cell_type": "code",
      "execution_count": null,
      "id": "546f5262",
      "metadata": {
        "id": "546f5262"
      },
      "outputs": [],
      "source": [
        "assert remove_values(['a', 'b', 'c', 'b', 'd'], 'b') == ['a', 'c', 'd'], 'Test case failed!'\n",
        "print('Test case passed!')\n"
      ]
    },
    {
      "cell_type": "markdown",
      "id": "781aed17",
      "metadata": {
        "id": "781aed17"
      },
      "source": [
        "## Exercise 3: Handling Missing Data in Dictionaries\n",
        "Write a function `fill_missing` that takes a dictionary and a list of expected keys. It should add missing keys to the dictionary with a value of `None`.\n"
      ]
    },
    {
      "cell_type": "code",
      "execution_count": null,
      "id": "2fb35dc3",
      "metadata": {
        "id": "2fb35dc3"
      },
      "outputs": [],
      "source": [
        "def fill_missing(data_dict, keys):\n",
        "    # Your code here\n",
        "    pass\n"
      ]
    },
    {
      "cell_type": "code",
      "execution_count": null,
      "id": "341f3a5b",
      "metadata": {
        "id": "341f3a5b"
      },
      "outputs": [],
      "source": [
        "d = {'a': 1, 'b': 2}\n",
        "assert fill_missing(d, ['a', 'b', 'c', 'd']) == {'a': 1, 'b': 2, 'c': None, 'd': None}, 'Test case failed!'\n",
        "print('Test case passed!')\n"
      ]
    },
    {
      "cell_type": "markdown",
      "source": [],
      "metadata": {
        "id": "xW6Db0PDBi0b"
      },
      "id": "xW6Db0PDBi0b"
    },
    {
      "cell_type": "markdown",
      "source": [
        "## Exercise 4: Remove Duplicate Items from a List\n",
        "\n",
        "Create a function remove_duplicates that takes a list and returns a new list with duplicate items removed while preserving the original order.\n"
      ],
      "metadata": {
        "id": "giT0sqrt-IFW"
      },
      "id": "giT0sqrt-IFW"
    },
    {
      "cell_type": "code",
      "source": [
        "def remove_duplicates(items):\n",
        "    # Your code here\n",
        "    pass"
      ],
      "metadata": {
        "id": "KeL028SJ-eOp"
      },
      "id": "KeL028SJ-eOp",
      "execution_count": null,
      "outputs": []
    },
    {
      "cell_type": "code",
      "source": [
        "# Test Cases\n",
        "assert remove_duplicates([1, 2, 2, 3, 4, 4, 5]) == [1, 2, 3, 4, 5], 'Test case 1 failed!'\n",
        "assert remove_duplicates(['apple', 'banana', 'apple', 'cherry']) == ['apple', 'banana', 'cherry'], 'Test case 2 failed!'\n",
        "print('All test cases passed!')"
      ],
      "metadata": {
        "id": "oTzAOsEG-g6W"
      },
      "id": "oTzAOsEG-g6W",
      "execution_count": null,
      "outputs": []
    },
    {
      "cell_type": "markdown",
      "id": "47128afa",
      "metadata": {
        "id": "47128afa"
      },
      "source": [
        "## Exercise 5: Data Type Conversion in Arrays\n",
        "Create a function `convert_types` that takes a list of strings and converts them to a specified data type (e.g., int or float). Handle errors if the conversion is not possible.\n"
      ]
    },
    {
      "cell_type": "code",
      "execution_count": null,
      "id": "bf7b2fd8",
      "metadata": {
        "id": "bf7b2fd8"
      },
      "outputs": [],
      "source": [
        "def convert_types(string_list, data_type):\n",
        "    # Your code here\n",
        "    pass\n"
      ]
    },
    {
      "cell_type": "code",
      "execution_count": null,
      "id": "4db70325",
      "metadata": {
        "id": "4db70325"
      },
      "outputs": [],
      "source": [
        "assert convert_types(['1', '2', '3'], int) == [1, 2, 3], 'Test case failed!'\n",
        "print('Test case passed!')\n"
      ]
    },
    {
      "cell_type": "markdown",
      "id": "4ee70592",
      "metadata": {
        "id": "4ee70592"
      },
      "source": [
        "## Exercise 6: Cleaning and Parsing Complex Strings\n",
        "Write a function `parse_data` that takes a list of strings where each string contains data points separated by a comma. The function should split each string into a list of data points and return a list of lists.\n"
      ]
    },
    {
      "cell_type": "code",
      "execution_count": null,
      "id": "9981edb1",
      "metadata": {
        "id": "9981edb1"
      },
      "outputs": [],
      "source": [
        "def parse_data(data_strings):\n",
        "    # Your code here\n",
        "    pass\n"
      ]
    },
    {
      "cell_type": "code",
      "execution_count": null,
      "id": "89c7f855",
      "metadata": {
        "id": "89c7f855"
      },
      "outputs": [],
      "source": [
        "assert parse_data(['1,a', '2,b', '3,c']) == [['1', 'a'], ['2', 'b'], ['3', 'c']], 'Test case failed!'\n",
        "print('Test case passed!')\n"
      ]
    },
    {
      "cell_type": "markdown",
      "source": [
        "# Level 1 - Typical Data Science Operations"
      ],
      "metadata": {
        "id": "ajBSo-8P-y0z"
      },
      "id": "ajBSo-8P-y0z"
    },
    {
      "cell_type": "markdown",
      "source": [
        "## Exercise 1: Frequency Analysis\n",
        "Write a function named `word_frequency` that takes a string as input and returns a dictionary with each word as a key and its frequency as the value.\n"
      ],
      "metadata": {
        "id": "6bCwFthVh8ke"
      },
      "id": "6bCwFthVh8ke"
    },
    {
      "cell_type": "code",
      "source": [
        "def word_frequency(text):\n",
        "    # Your code here\n",
        "    pass"
      ],
      "metadata": {
        "id": "ob-ZbGvoiCJd"
      },
      "id": "ob-ZbGvoiCJd",
      "execution_count": null,
      "outputs": []
    },
    {
      "cell_type": "code",
      "source": [
        "print(word_frequency(\"apple banana apple strawberry banana apple\")) # Should return {'apple': 3, 'banana': 2, 'strawberry': 1}"
      ],
      "metadata": {
        "id": "SAQ1wP7tiE-n"
      },
      "id": "SAQ1wP7tiE-n",
      "execution_count": null,
      "outputs": []
    },
    {
      "cell_type": "markdown",
      "source": [
        "## Exercise 2: Nested Data Handling\n",
        "\n",
        "Write a function named add_to_cart that takes a shopping cart (a nested dictionary), a category, a product name, a quantity, and a price, and adds this information to the cart."
      ],
      "metadata": {
        "id": "mz1BYEgHiVV4"
      },
      "id": "mz1BYEgHiVV4"
    },
    {
      "cell_type": "code",
      "source": [],
      "metadata": {
        "id": "GIUMME2GiwzM"
      },
      "id": "GIUMME2GiwzM",
      "execution_count": null,
      "outputs": []
    },
    {
      "cell_type": "code",
      "source": [
        "def add_to_cart(cart, category, product, quantity, price):\n",
        "    # Your code here\n",
        "    pass\n"
      ],
      "metadata": {
        "id": "eUR_b47iinAL"
      },
      "id": "eUR_b47iinAL",
      "execution_count": null,
      "outputs": []
    },
    {
      "cell_type": "code",
      "source": [
        "# Test case\n",
        "cart = {\"fruits\": [(\"apple\", 2, 0.5)], \"beverages\": []}\n",
        "add_to_cart(cart, \"fruits\", \"banana\", 5, 0.3)\n",
        "print(cart) # Should return {\"fruits\": [(\"apple\", 2, 0.5), (\"banana\", 5, 0.3)], \"beverages\": []}\n"
      ],
      "metadata": {
        "id": "gtW2m8USiith"
      },
      "id": "gtW2m8USiith",
      "execution_count": null,
      "outputs": []
    },
    {
      "cell_type": "markdown",
      "source": [
        "### Exercise 3: Data Transformation\n",
        "Write a function named average_grade that takes a dictionary with student names as keys and lists of grades as values and returns a list of tuples with each student's name and their average grade.\n"
      ],
      "metadata": {
        "id": "82ZoN7M4ixmL"
      },
      "id": "82ZoN7M4ixmL"
    },
    {
      "cell_type": "code",
      "source": [
        "def average_grade(grades):\n",
        "    # Your code here\n",
        "    pass\n"
      ],
      "metadata": {
        "id": "3ggVZVz6i6Sn"
      },
      "id": "3ggVZVz6i6Sn",
      "execution_count": null,
      "outputs": []
    },
    {
      "cell_type": "code",
      "source": [
        "\n",
        "# Test case\n",
        "grades = {\"Alice\": [88, 76, 92], \"Bob\": [70, 80, 68]}\n",
        "print(average_grade(grades)) # Should return [('Alice', 85.33333333333333), ('Bob', 72.66666666666667)]\n"
      ],
      "metadata": {
        "id": "bh4e85qVi-y9"
      },
      "id": "bh4e85qVi-y9",
      "execution_count": null,
      "outputs": []
    },
    {
      "cell_type": "markdown",
      "source": [
        "## Exercise 4: Merge Two Dictionaries\n",
        "Create a function merge_dicts that takes two dictionaries and merges them into one. If there are overlapping keys, the values from the second dictionary should overwrite those from the first.\n"
      ],
      "metadata": {
        "id": "_JDMFttzCdGh"
      },
      "id": "_JDMFttzCdGh"
    },
    {
      "cell_type": "code",
      "source": [
        "def merge_dicts(dict1, dict2):\n",
        "    # Your code here\n",
        "    pass\n",
        "\n",
        "# Test Cases\n",
        "assert merge_dicts({'a': 1, 'b': 2}, {'b': 3, 'c': 4}) == {'a': 1, 'b': 3, 'c': 4}, 'Test case 1 failed!'\n",
        "assert merge_dicts({}, {'x': 10}) == {'x': 10}, 'Test case 2 failed!'\n",
        "print('All test cases passed!')"
      ],
      "metadata": {
        "id": "1vgwtBDMCupv"
      },
      "id": "1vgwtBDMCupv",
      "execution_count": null,
      "outputs": []
    },
    {
      "cell_type": "markdown",
      "source": [
        "# Level 2 - Numpy, Scipy, Pandas & Plotly\n",
        "\n",
        "---\n",
        "\n"
      ],
      "metadata": {
        "id": "72_yw11dC_Ho"
      },
      "id": "72_yw11dC_Ho"
    },
    {
      "cell_type": "code",
      "source": [],
      "metadata": {
        "id": "nKldxpjPDFwq"
      },
      "id": "nKldxpjPDFwq",
      "execution_count": null,
      "outputs": []
    },
    {
      "cell_type": "code",
      "source": [
        "!wget https://spataru.at/campus02/DataScience_salaries_2024.csv"
      ],
      "metadata": {
        "id": "7jzu85Bl9UPk"
      },
      "id": "7jzu85Bl9UPk",
      "execution_count": null,
      "outputs": []
    },
    {
      "cell_type": "code",
      "source": [
        "import pandas as pd\n",
        "import plotly.express as px\n",
        "import numpy as np"
      ],
      "metadata": {
        "id": "anOdX_9S-bKH"
      },
      "id": "anOdX_9S-bKH",
      "execution_count": null,
      "outputs": []
    },
    {
      "cell_type": "code",
      "source": [
        "df = pd.read_csv(\"DataScience_salaries_2024.csv\")"
      ],
      "metadata": {
        "id": "Rzx28Dfs-hpE"
      },
      "id": "Rzx28Dfs-hpE",
      "execution_count": null,
      "outputs": []
    },
    {
      "cell_type": "markdown",
      "source": [
        "\tEasy Questions\n",
        "  1.\tHow many unique job titles are there in the dataset?\n",
        "\t2.\tWhat are the most common experience levels?\n",
        "\t3.\tWhat is the total number of records for each employment type?\n",
        "\t4.\tWhat is the average salary in USD for the dataset?\n",
        "\t5.\tList the unique company sizes in the dataset.\n",
        "\t6.\tWhat is the maximum and minimum salary in USD?\n",
        "\t7.\tHow many records are there for each remote work ratio (0%, 50%, 100%)?\n",
        "\t8.\tHow many records were there for each year?\n",
        "\t9.\tFind the average salary in USD for each job title.\n",
        "\t10.\tWhat is the total count of employees in each country (employee residence)?"
      ],
      "metadata": {
        "id": "wvmpDs6WCH8n"
      },
      "id": "wvmpDs6WCH8n"
    },
    {
      "cell_type": "code",
      "source": [],
      "metadata": {
        "id": "ZuE43HmXCNPz"
      },
      "id": "ZuE43HmXCNPz",
      "execution_count": null,
      "outputs": []
    },
    {
      "cell_type": "code",
      "source": [],
      "metadata": {
        "id": "g1LZveZrCNUp"
      },
      "id": "g1LZveZrCNUp",
      "execution_count": null,
      "outputs": []
    },
    {
      "cell_type": "code",
      "source": [],
      "metadata": {
        "id": "RRbPTbCSCNXA"
      },
      "id": "RRbPTbCSCNXA",
      "execution_count": null,
      "outputs": []
    },
    {
      "cell_type": "markdown",
      "source": [
        "\tHard Questions\n",
        "  1.\tWhat is the average salary in USD for each experience level?\n",
        "\t2.\tWhich job titles have the highest and lowest average salaries in USD?\n",
        "\t3.\tHow does the average salary in USD vary by employment type and remote ratio?\n",
        "\t4.\tWhat is the trend of average salary over the years?\n",
        "\t5.\tWhat is the distribution of salaries in USD for different company sizes?\n",
        "\t6.\tWhich country has the highest average salary in USD?\n",
        "\t7.\tHow does remote work influence the salary distribution?\n",
        "\t8.\tWhat is the most common job title for each company size?\n",
        "\t9.\tHow does employee residence impact the average salary in USD?"
      ],
      "metadata": {
        "id": "so9KzcZWB87P"
      },
      "id": "so9KzcZWB87P"
    },
    {
      "cell_type": "code",
      "source": [],
      "metadata": {
        "id": "PSLXYuRkCN_z"
      },
      "id": "PSLXYuRkCN_z",
      "execution_count": null,
      "outputs": []
    },
    {
      "cell_type": "code",
      "source": [],
      "metadata": {
        "id": "CVls262ACOC0"
      },
      "id": "CVls262ACOC0",
      "execution_count": null,
      "outputs": []
    },
    {
      "cell_type": "code",
      "source": [],
      "metadata": {
        "id": "ZP8slfV0COFr"
      },
      "id": "ZP8slfV0COFr",
      "execution_count": null,
      "outputs": []
    },
    {
      "cell_type": "code",
      "source": [],
      "metadata": {
        "id": "UrbIdtpmCMGv"
      },
      "id": "UrbIdtpmCMGv",
      "execution_count": null,
      "outputs": []
    }
  ],
  "metadata": {
    "colab": {
      "provenance": [],
      "collapsed_sections": [
        "CGYYeLcPhaxg",
        "DrpUqjKO9xSp",
        "1dbce4b9",
        "9a51b329",
        "781aed17",
        "giT0sqrt-IFW",
        "47128afa",
        "4ee70592",
        "ajBSo-8P-y0z",
        "6bCwFthVh8ke",
        "72_yw11dC_Ho"
      ]
    },
    "language_info": {
      "name": "python"
    },
    "kernelspec": {
      "name": "python3",
      "display_name": "Python 3"
    }
  },
  "nbformat": 4,
  "nbformat_minor": 5
}